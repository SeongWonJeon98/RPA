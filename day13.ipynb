{
 "cells": [
  {
   "cell_type": "code",
   "execution_count": 1,
   "metadata": {},
   "outputs": [],
   "source": [
    "from googletrans import Translator"
   ]
  },
  {
   "cell_type": "code",
   "execution_count": 4,
   "metadata": {},
   "outputs": [
    {
     "name": "stdout",
     "output_type": "stream",
     "text": [
      "Inha Kook said on the 24th that the lawmaker Hur Eun -ah, a graduate of the aeronautical flight and graduates, visited his alma mater and held a special lecture on the theme of 'Manners Make Dream!'Huh, who is from the air flight and 91st class, cheered for his juniors with three keywords: 'Don't give up', 'Don't give up' and 'enjoy'.\n",
      "나는 행복하다\n"
     ]
    }
   ],
   "source": [
    "translator = Translator()\n",
    "\n",
    "str1 = '''인하공전은 23일 항공운항과 졸업생인 국민의힘 허은아 의원이 모교를 찾아 'Manners Maketh Dream!'이란 주제로 특강을 진행했다고 24일 밝혔다. 항공운항과 91학번 출신인 허 의원은 이날 특강에서 '실패에 쫄지마라' '포기하지 마라' '그리고 즐겨라'라는 세 가지 키워드로 후배들을 응원했다.\n",
    "\n",
    "''' \n",
    "result1 = translator.translate(str1, dest='en', src='auto') \n",
    "print(f\"{result1.text}\") \n",
    "\n",
    "str2 = ''''Inha Kook said on the 24th that the lawmaker Hur Eun -ah, a graduate of the aeronautical flight and graduates, visited his alma mater and held a special lecture on the theme of 'Manners Make Dream!'Huh, who is from the air flight and 91st class, cheered for his juniors with three keywords: 'Don't give up', 'Don't give up' and 'enjoy'.'''\n",
    "result2 = translator.translate(str2, dest='ko', src='en') \n",
    "print(f\"{result2.text}\")"
   ]
  },
  {
   "cell_type": "code",
   "execution_count": null,
   "metadata": {},
   "outputs": [],
   "source": []
  }
 ],
 "metadata": {
  "kernelspec": {
   "display_name": "Python 3",
   "language": "python",
   "name": "python3"
  },
  "language_info": {
   "codemirror_mode": {
    "name": "ipython",
    "version": 3
   },
   "file_extension": ".py",
   "mimetype": "text/x-python",
   "name": "python",
   "nbconvert_exporter": "python",
   "pygments_lexer": "ipython3",
   "version": "3.11.2"
  },
  "orig_nbformat": 4,
  "vscode": {
   "interpreter": {
    "hash": "81eef19b52451e11e3f8bf6bc518dd5f147d5a651198624c9c211c83ec7c4923"
   }
  }
 },
 "nbformat": 4,
 "nbformat_minor": 2
}
